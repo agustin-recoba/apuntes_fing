{
  "cells": [
    {
      "cell_type": "markdown",
      "metadata": {
        "id": "NN53AiN72Rec"
      },
      "source": [
        "# Regresión Lineal\n",
        "### Aprendizaje Automático - Instituto de Computación - UdelaR\n"
      ]
    },
    {
      "cell_type": "markdown",
      "metadata": {
        "id": "NkYd9BaV2Ree"
      },
      "source": [
        "En este módulo presentaremos dos métodos de aprendizaje supervisado: la regresión lineal, y el método de clasificación llamado regresión logística. Está basado fundamentalmente en las [notas del curso CS229](https://see.stanford.edu/materials/aimlcs229/cs229-notes1.pdf) de la Universidad de Stanford, y de las presentaciones y material asociadas (disponibles a través de la plataforma Coursera). Sugerimos recurrir a ambas fuentes para más detalles respecto a los métodos aquí presentados.\n",
        "\n"
      ]
    },
    {
      "cell_type": "markdown",
      "metadata": {
        "id": "ocE58YBn2Ref"
      },
      "source": [
        "## Regresión Lineal\n",
        "\n",
        "La regresión lineal es una forma de aprendizaje supervisado donde, a partir de un vector $x^T = (x_1, x_2, \\ldots, x_n)$ con $n$ _atributos_ (o *variables*) se busca construir una función (hipótesis) $h_{\\theta}(x): \\mathbb{R}^{n} \\to \\mathbb{R}$ que prediga la salida $y \\in \\mathbb{R}$ (llamada *variable o atributo de salida*), continua,  a través del siguiente modelo:\n",
        "\n",
        "$$h_{\\theta}(x) = \\theta_0+\\sum_{j=1}^n x_j\\theta_j$$\n",
        "\n",
        "\n",
        "<img src=\"https://www.researchgate.net/profile/Mauricio_Salgado/publication/42100369/figure/fig1/AS:652249911001105@1532519905539/Figura-1-modelo-de-regresion-Lineal-expectativa-de-vida-al-nacer-y-PiB-per-capita-por.png\" alt=\"Drawing\" style=\"width: 500px;\"/>\n",
        "\n",
        "\n"
      ]
    },
    {
      "cell_type": "markdown",
      "metadata": {
        "id": "Rip5Sbos2Ref"
      },
      "source": [
        "## Regresión Lineal\n",
        "\n",
        "A los elementos del vector $\\theta$ se lo conoce como _parámetros_ (también llamados *pesos*). Al término $\\theta_0$ se le llama *sesgo*. Podemos expresar el modelo de forma más compacta como un producto interno de vectores:\n",
        "\n",
        "$$h_{\\theta}(x)= \\theta_0 + x^T\\theta$$\n",
        "\n",
        "\n",
        "Es común agregar una constante 1 al vector $x$, y agregar $\\theta_0$ a $\\theta$, expresando entonces el modelo de una forma más compacta aún:\n",
        "\n",
        "$$h_{\\theta}(x)= x^T\\theta$$"
      ]
    },
    {
      "cell_type": "markdown",
      "metadata": {
        "id": "39GSlBgD2Reg"
      },
      "source": [
        "## Regresión Lineal\n",
        "\n",
        "El problema de aprendizaje para la regresión lineal multivariada consiste en **aprender los parámetros $\\theta$** a partir de un conjunto de entrenamiento $\\{(x^{(i)},y^{(i)})\\}$ que tiene $m$ elementos y donde cada $(x^{(i)},y^{(i)})$ es una _instancia_ de entrenamiento. Para esto, deberemos definir una función de costo que nos diga qué tan parecido es el valor predicho por $h_{\\theta}(x^{(i)})$ al verdadero valor de $y^{(i)}$ en el conjunto de entrenamiento.\n",
        "\n"
      ]
    },
    {
      "cell_type": "markdown",
      "metadata": {
        "id": "0fVA8sHm2Reg"
      },
      "source": [
        "Consideremos, por ejemplo, al \"Abalone dataset\" (un conjunto de datos que tiene como valores de entrada ciertas medidas de la caparazón de un molusco, y como salida el número de anillos):\n",
        "\n",
        "| Largo|  Diámetro|  Altura|  Peso|  Anillos|\n",
        "| ------: |---:| -----:|---:|---:|\n",
        "| 0.455| 0.365| 0.095| 0.514| 15|\n",
        "| 0.35| 0.265| 0.09| 0.2255| 7|\n",
        "| 0.53| 0.42| 0.135| 0.677| 9|\n",
        "| 0.44| 0.365| 0.125| 0.516| 10|\n",
        "| 0.33| 0.255| 0.08| 0.205| 7|\n",
        "\n",
        "En este caso, el atributo \"Largo\" corresponde a $x_1$, \"Diámetro\" a $x_2$, y así sucesivamente. La instancia $(x^{(3)},y^{(3)})$, por ejemplo corresponde a $([1,0.53,0.42,0.135,0.677], 9)$, y por lo tanto $\\theta \\in \\mathbb{R}^5$. El problema de aprendizaje, en este caso, consiste en obtener, a partir de un conjunto de entrenamiento, un conjunto de valores para los elementos de $\\theta$, que permitan predecir, para nuevas instancias de $x$, su valor $y$ asociado, con tanta precisión como sea posible.\n"
      ]
    },
    {
      "cell_type": "code",
      "execution_count": 21,
      "metadata": {
        "id": "4A0eTddU2Reg"
      },
      "outputs": [],
      "source": [
        "# para trabajar solamente con los cinco registros que aparecen arriba\n",
        "\n",
        "import numpy as np\n",
        "\n",
        "X = np.array( [ [ 1 , 0.455 , 0.365 , 0.095 , 0.514  ],\n",
        "                [ 1 , 0.35  , 0.265 , 0.09  , 0.2255 ],\n",
        "                [ 1 , 0.53  , 0.42  , 0.135 , 0.677  ],\n",
        "                [ 1 , 0.44  , 0.365 , 0.125 , 0.516  ],\n",
        "                [ 1 , 0.33  , 0.255 , 0.08  , 0.205  ] ])\n",
        "\n",
        "\n",
        "Y = np.array( [ [ 15 ],\n",
        "                [ 7 ],\n",
        "                [ 9 ],\n",
        "                [ 10 ],\n",
        "                [ 7 ] ]  )\n",
        "\n",
        "m=5\n",
        "\n",
        "# valor inicial\n",
        "theta = np.array( [ [ 1 ],\n",
        "                    [ 1 ],\n",
        "                    [ 1 ],\n",
        "                    [ 1 ],\n",
        "                    [ 1 ] ]  )\n"
      ]
    },
    {
      "cell_type": "code",
      "execution_count": 23,
      "metadata": {
        "colab": {
          "base_uri": "https://localhost:8080/"
        },
        "id": "bbYCwiI62Reh",
        "outputId": "72a4a536-b397-48e8-e85f-1be49330cdb9"
      },
      "outputs": [
        {
          "output_type": "stream",
          "name": "stdout",
          "text": [
            "                     theta0  length  diameter  height  weight\n",
            "M 0.455 0.365 0.095       1  0.5140    0.2245  0.1010  0.1500\n",
            "  0.350 0.265 0.090       1  0.2255    0.0995  0.0485  0.0700\n",
            "F 0.530 0.420 0.135       1  0.6770    0.2565  0.1415  0.2100\n",
            "M 0.440 0.365 0.125       1  0.5160    0.2155  0.1140  0.1550\n",
            "I 0.330 0.255 0.080       1  0.2050    0.0895  0.0395  0.0550\n",
            "...                     ...     ...       ...     ...     ...\n",
            "F 0.565 0.450 0.165       1  0.8870    0.3700  0.2390  0.2490\n",
            "M 0.590 0.440 0.135       1  0.9660    0.4390  0.2145  0.2605\n",
            "  0.600 0.475 0.205       1  1.1760    0.5255  0.2875  0.3080\n",
            "F 0.625 0.485 0.150       1  1.0945    0.5310  0.2610  0.2960\n",
            "M 0.710 0.555 0.195       1  1.9485    0.9455  0.3765  0.4950\n",
            "\n",
            "[4177 rows x 5 columns]\n",
            "                     rings\n",
            "M 0.455 0.365 0.095     15\n",
            "  0.350 0.265 0.090      7\n",
            "F 0.530 0.420 0.135      9\n",
            "M 0.440 0.365 0.125     10\n",
            "I 0.330 0.255 0.080      7\n",
            "...                    ...\n",
            "F 0.565 0.450 0.165     11\n",
            "M 0.590 0.440 0.135     10\n",
            "  0.600 0.475 0.205      9\n",
            "F 0.625 0.485 0.150     10\n",
            "M 0.710 0.555 0.195     12\n",
            "\n",
            "[4177 rows x 1 columns]\n"
          ]
        }
      ],
      "source": [
        "# Para trabajar con el dataset completo (4177 registros)\n",
        "\n",
        "import pandas as pd\n",
        "df = pd.read_csv('http://archive.ics.uci.edu/ml/machine-learning-databases/abalone/abalone.data',\n",
        "                   header=None, names=[ 'length', 'diameter', 'height', 'weight', 'rings'])\n",
        "\n",
        "X = pd.DataFrame(df, columns=['length', 'diameter', 'height', 'weight'])\n",
        "X.insert(loc=0, column=\"theta0\", value=1, allow_duplicates=True)\n",
        "print(X)\n",
        "\n",
        "Y = pd.DataFrame(df, columns=['rings'])\n",
        "print(Y)\n",
        "\n",
        "m=X.shape[0]\n",
        "\n",
        "import numpy as np\n",
        "theta = np.ones((X.shape[1], 1))\n",
        "\n",
        "X = X.to_numpy()\n",
        "Y = Y.to_numpy()\n"
      ]
    },
    {
      "cell_type": "markdown",
      "metadata": {
        "id": "Q2Jar2Vr2Rei"
      },
      "source": [
        "### Método de Aproximación por  Mínimos Cuadrados (Least Squares)\n",
        "\n",
        "Una método para estimar $\\theta$ es buscar aquellos valores que hagan que $h_\\theta(x)$ sea tan cercano a $y$ como sea posible, para las instancias de entrenamiento que contamos. Para esto, definiremos una *función de costo*, que mide esta diferencia, y que será la que intentemos minimizar.\n",
        "\n",
        "$$ J(\\theta) = \\frac{1}{2m} \\sum_{i=1}^m (h_\\theta(x^{(i)}) - y^{(i)})^2$$\n",
        "\n",
        "<img src=\"https://upload.wikimedia.org/wikipedia/commons/b/b0/Linear_least_squares_example2.svg\" align=\"center\" alt=\"Drawing\" style=\"width: 300px;\"/>\n"
      ]
    },
    {
      "cell_type": "markdown",
      "metadata": {
        "id": "RSBkp6FX2Rei"
      },
      "source": [
        "Esta función (llamada de mínimos cuadrados), mide la diferencia entre cada valor de $y$ y el valor predicho por $h_\\theta(x)$, para la instancia $x$ correspondiente, calcula su cuadrado (esto hace que siempre dé positivo), y hace la suma en todos los ejemplos de entrenamiento. La constante $\\frac{1}{2m}$ no afecta el resultado final... y hace más fáciles algunas cuentas.\n"
      ]
    },
    {
      "cell_type": "markdown",
      "metadata": {
        "id": "fGSPzXMT2Rej"
      },
      "source": [
        "**¿Cuál es la función de costo para el Dataset Abalone?**\n",
        "\n",
        "\n",
        "$$ J(\\theta) = \\frac{1}{2m} \\sum_{i=1}^m (h_\\theta(x^{(i)}) - y^{(i)})^2$$\n",
        "\n",
        "$$ J(\\theta) = \\frac{1}{10} ( (x^{(1)})^T \\theta - y^{(1)})^2 + ((x^{(2)})^T \\theta - y^{(2)})^2 + \\ldots $$\n",
        "\n",
        "$$ J(\\theta) = \\frac{1}{10} ( (\\theta_0 + 0.455\\theta_1 + 0.365\\theta_2 + \\ldots - 15)^2 + (\\theta_0 + 0.35\\theta_1 + 0.265\\theta_2 + \\ldots - 7)^2  + \\ldots $$\n",
        "\n",
        "Obsérvese que J es una función de $\\theta$, no de $x$. Cuando decimos que hacemos regresión *lineal* es porque los coeficientes $\\theta$ se combinan por una función lineal."
      ]
    },
    {
      "cell_type": "markdown",
      "metadata": {
        "id": "SW5rS1gD2Rej"
      },
      "source": [
        "Desde un punto de vista probabilistíco, la minimización de la función de mínimos cuadrados corresponde a encontrar, bajo ciertas condiciones, los estimadores de máxima verosimilitud (es decir, más adecuados al conjunto de entrenamiento) para $\\theta$. La justificación excede el alcance de este curso, pero vale mencionarlo para comenzar a formalizar la idea de que la elección de esta función de costo es, al menos, \"razonable\".\n",
        "\n",
        "Esta forma de aproximación a una hipótesis es una función lineal de los parámetros, se lo conoce como mínimos cuadrados lineal u ordinario (Ordinary Least Squares, o OLS). Existen versiones no lineales para la regresión, que no cubriremos en este curso."
      ]
    },
    {
      "cell_type": "markdown",
      "metadata": {
        "id": "moHMS-Ns2Rej"
      },
      "source": [
        "### Ecuaciones Normales\n",
        "\n",
        "El objetivo, entonces, es obtener los valores de $\\theta$ que minimicen la función de costo $J(\\theta)$. La primera forma que veremos es directamente calcular las derivadas respecto a los diferentes $\\theta_j$ e igualarlas a 0 (al ser $J$ una función cuadrática, es también convexa, y por lo tanto solamente tiene un mínimo global, que coincide con el punto donde su gradiente  $\\nabla_\\theta$ es 0).\n",
        "\n",
        "Para esto, vamos primero a escribir $J$ en forma vectorial. Dado un conjunto de entrenamiento con $n$ atributos y $m$ instancias, definiremos la matriz de diseño $X \\in \\mathbb{R}^{m \\times (n+1)}$, como aquella que tiene las instancias de entrenamiento en sus filas, y al vector columna $y$ que tiene en cada fila el valor correspondiente de $y^{(i)}$. Puede verse que, con esta formulación, llegamos a:\n",
        "\n",
        "$$ J(\\theta) = \\frac{1}{2m}(X\\theta-y)^T(X\\theta -y)$$"
      ]
    },
    {
      "cell_type": "code",
      "execution_count": null,
      "metadata": {
        "colab": {
          "base_uri": "https://localhost:8080/"
        },
        "id": "vWfSbCqt2Rej",
        "outputId": "5e489b8c-7e69-4dde-b000-feb98333ec7c"
      },
      "outputs": [
        {
          "output_type": "execute_result",
          "data": {
            "text/plain": [
              "array([[30.86462122]])"
            ]
          },
          "metadata": {},
          "execution_count": 6
        }
      ],
      "source": [
        "XOmY = (np.matmul(X,theta)-Y)\n",
        "error_theta = 1 / (2*m) * np.matmul(XOmY.T,XOmY)\n",
        "error_theta # para el theta inicial (todo unos)"
      ]
    },
    {
      "cell_type": "markdown",
      "metadata": {
        "id": "9VVO1Huy2Rek"
      },
      "source": [
        "### Ecuaciones Normales\n",
        "\n",
        "Utilizando propiedades de la traza de una matriz y sus gradientes, podemos llegar a un valor de $\\nabla_\\theta J(\\theta)$ (por el detalle de la derivación, consúltese las referencias):\n",
        "\n",
        "$$ \\nabla_\\theta J(\\theta) = X^TX\\theta - X^Ty $$\n",
        "\n",
        "Igualando el gradiente a 0, obtenemos las ecuaciones normales:\n",
        "\n",
        "$$ X^TX\\theta = X^Ty$$\n",
        "\n",
        "y por lo tanto el valor de $\\theta$ que minimiza $J(\\theta)$ estará dado por:\n",
        "\n",
        "$$ \\theta = (X^TX)^{-1}X^Ty$$\n",
        "\n",
        "Las ecuaciones normales proveen una forma cerrada de calcular los valores de $\\theta$ que minimizan $J(\\theta)$. El algoritmo asociado tiene $O(n^3)$, por lo que si el número de atributos o de instancias es muy grande, puede llegar a ser muy lento, y, en esos casos, es preferible utilizar métodos iterativos, como el que veremos a continuación."
      ]
    },
    {
      "cell_type": "code",
      "execution_count": 24,
      "metadata": {
        "colab": {
          "base_uri": "https://localhost:8080/"
        },
        "id": "UJ1lIJws2Rek",
        "outputId": "f8864be3-08aa-4065-e4e9-d7a93b342dc2"
      },
      "outputs": [
        {
          "output_type": "execute_result",
          "data": {
            "text/plain": [
              "array([[  6.72985123],\n",
              "       [  9.76238854],\n",
              "       [-19.01659313],\n",
              "       [ -6.988794  ],\n",
              "       [ 13.43799171]])"
            ]
          },
          "metadata": {},
          "execution_count": 24
        }
      ],
      "source": [
        "from numpy.linalg import inv\n",
        "\n",
        "theta_optimo = np.matmul(np.matmul(inv(np.matmul(X.transpose(),X)),X.T),Y)\n",
        "theta_optimo"
      ]
    },
    {
      "cell_type": "markdown",
      "metadata": {
        "id": "89hAom6B2Rek"
      },
      "source": [
        "### Descenso por gradiente\n",
        "\n",
        "El algoritmo de _descenso por gradiente_ es una aproximación completamente diferente a la minimización de $J(\\theta)$. Es un algoritmo de búsqueda iterativo, que parte de una estimación inicial de $\\theta$, y la va cambiando para que $J(\\theta)$ se reduzca, hasta converger a un valor de $\\theta$ que corresponde a un mínimo global de $J(\\theta)$, **siempre y cuando $J(\\theta)$ sea convexa**.\n",
        "\n",
        "El algoritmo comienza con un $\\theta$ inicial, y repetidamente realiza la siguiente actualización (simultáneamente para todos los $\\theta_j$, con $j = 0,\\ldots,n$):\n",
        "\n",
        "\n",
        "\n",
        "$$ \\theta_j := \\theta_j - \\alpha \\frac{\\partial}{\\partial \\theta_j} J(\\theta) $$\n",
        "\n",
        "\n",
        "\n",
        "\n",
        "\n",
        "\n"
      ]
    },
    {
      "cell_type": "markdown",
      "metadata": {
        "id": "iS1HD_8z2Rek"
      },
      "source": [
        "### Descenso por gradiente\n",
        "\n",
        "Regla de actualización\n",
        "\n",
        "$$ \\theta_j := \\theta_j - \\alpha \\frac{\\partial}{\\partial \\theta_j} J(\\theta) $$\n",
        "\n",
        "\n",
        " $f:\\mathbb{R}\\to \\mathbb{R}$           |  $f:\\mathbb{R^2}\\to \\mathbb{R}$  \n",
        ":-------------------------:|:-------------------------:\n",
        "![](https://ml-cheatsheet.readthedocs.io/en/latest/_images/gradient_descent_demystified.png)  |  ![](https://st4.ning.com/topology/rest/1.0/file/get/3713179836?profile=original)\n",
        "\n",
        "\n",
        "\n",
        "\n",
        "\n"
      ]
    },
    {
      "cell_type": "markdown",
      "metadata": {
        "id": "SyOKVHT22Rel"
      },
      "source": [
        "![](https://miro.medium.com/max/1400/1*CjTBNFUEI_IokEOXJ00zKw.gif)"
      ]
    },
    {
      "cell_type": "markdown",
      "metadata": {
        "id": "WlLnvRiu2Rel"
      },
      "source": [
        "### Descenso por gradiente\n",
        "\n",
        "\n",
        "La función de mínimos cuadrados es convexa, por lo tenemos la garantía de que el descenso por gradiente convergerá a un mínimo global. Para el caso de la minimización de la función de mínimos cuadrados, podemos hacer explícito el valor de $\\frac{\\partial}{\\partial \\theta_j}J(\\theta)$, a partir de su definición:\n",
        "\n",
        "$$\n",
        "\\begin{align}\n",
        " \\frac{\\partial}{\\partial \\theta_j}J(\\theta)&=& \\frac{\\partial}{\\partial \\theta_j} \\frac{1}{2m} \\sum_{i=1}^m (h_\\theta(x^{(i)}) - y{(i)})^2 \\\\\n",
        " &=& \\frac{1}{2m}\\sum_{i=1}^{m} 2 \\cdot (h_\\theta(x^{(i)}) - y^{(i)})\\cdot \\frac{\\partial}{\\partial \\theta_j} (h_\\theta(x^{(i)}) - y^{(i)})\\\\\n",
        "&=& \\frac{1}{m}\\sum_{i=1}^{m}  (h_\\theta(x^{(i)}) - y^{(i)})\\cdot \\frac{\\partial}{\\partial \\theta_j} (\\sum_{p=0}^{n} \\theta_p x_p^{i} - y^{(i)})\\\\\n",
        "&=& \\frac{1}{m}\\sum_{i=1}^{m}  (h_\\theta(x^{(i)}) - y^{(i)})x^{(i)}_j\\\\\n",
        "\\end{align}\n",
        "$$\n"
      ]
    },
    {
      "cell_type": "markdown",
      "metadata": {
        "id": "eWjVBiyt2Rel"
      },
      "source": [
        "### Descenso por gradiente\n",
        "\n",
        "\n",
        "Y, por lo tanto, la regla de actualización (simultánea para todos los $\\theta_j$) será:\n",
        "\n",
        "$$ \\theta_j := \\theta_j - \\alpha \\frac{1}{m}\\sum_{i=1}^{m}  (h_\\theta(x^{(i)}) - y^{(i)})x^{(i)}_j   $$\n",
        "\n",
        "Esta regla (llamada LMS -Least Mean Square- o de Widrow-Hoff) hace que la actualización de los valores de los parámetros $\\theta$ sea proporcional al error promedio cometido por la hipótesis actual, y en la dirección del gradiente (con el sentido opuesto). El algoritmo de _descenso por gradiente batch_ consiste en aplicar esta regla repetidamente, hasta lograr la convergencia (que podría definirse, por ejemplo, cuando $J(\\theta)$ queda por debajo de cierto valor $\\epsilon$).\n",
        "\n"
      ]
    },
    {
      "cell_type": "code",
      "execution_count": 25,
      "metadata": {
        "id": "AL1UEsWC2Rel"
      },
      "outputs": [],
      "source": [
        "def gradient_descent(x, y, theta, iterations, alpha):\n",
        "    for i in range(iterations):\n",
        "        prediction = np.dot(x, theta)\n",
        "        error = prediction - y\n",
        "        cost = 1/(2*m) * np.dot(error.T, error)\n",
        "        theta = theta - (alpha * (1/m) * np.dot(x.T, error))\n",
        "    return theta"
      ]
    },
    {
      "cell_type": "code",
      "execution_count": 27,
      "metadata": {
        "colab": {
          "base_uri": "https://localhost:8080/"
        },
        "id": "Y4W4XD9x2Rel",
        "outputId": "65311aa5-9bdc-4340-aa84-3040852e150e"
      },
      "outputs": [
        {
          "output_type": "stream",
          "name": "stdout",
          "text": [
            "[[  6.72368239   6.72985123]\n",
            " [  9.34191223   9.76238854]\n",
            " [-18.68197686 -19.01659313]\n",
            " [ -6.37248992  -6.988794  ]\n",
            " [ 13.953343    13.43799171]]\n",
            "0.9665526913722888\n"
          ]
        }
      ],
      "source": [
        "theta_gradiente = gradient_descent(X,Y,theta,10000,0.5)  # con dataset completo\n",
        "#theta_gradiente = gradient_descent(X,Y,theta,50000,1.3)  # con pocos datos de prueba\n",
        "\n",
        "compara = np.concatenate((theta_gradiente, theta_optimo), axis=1)\n",
        "print(compara) # diferencia con el óptimo\n",
        "\n",
        "dist = np.linalg.norm(theta_optimo-theta_gradiente)\n",
        "print(dist) # distacia entre vectores"
      ]
    },
    {
      "cell_type": "markdown",
      "metadata": {
        "id": "ujy1XRCl2Rem"
      },
      "source": [
        "### Descenso por gradiente estocástico (o incremental)\n",
        "\n",
        "Puede verse que en este caso, para cada iteración se calcula el error cometido por la hipótesis sobre todas las instancias de entrenamiento. Una alternativa es actualizar los valores de $\\theta$ luego de calcular el error sobre cada ejemplo del conjunto de entrenamiento:\n",
        "\n",
        "$$ \\theta_j := \\theta_j - \\alpha (h_\\theta(x^{(i)}) - y^{(i)})x^{(i)}_j   \\text{   (simultáneamente para todos los $j$)} $$\n",
        "\n",
        "En este caso, aunque el algoritmo no garantiza converger al mínimo, tiene la ventaja de hacerlo más rápido que la versión batch. Esta versión del algoritmo es conocida como *descenso por gradiente estocástico o incremental*, y se utiliza especialmente en los casos en los que $m$ (es decir, la cantidad de instancias de entrenamiento) es muy grande.\n",
        "\n",
        "\n",
        "Para lograr un compromiso entre el descenso por gradiente batch (que utiliza todos los ejemplos en cada iteración) y el incremental (que utiliza un ejemplo en cada iteración), es común procesar, en cada iteración un conjunto $m$  instancias (e.g. 512 o 1024). Esto tiene la ventaja computacional adicional de que pueden ser vectorizados y procesados en paralelo.\n"
      ]
    },
    {
      "cell_type": "code",
      "execution_count": 28,
      "metadata": {
        "id": "gJtydY132Rem"
      },
      "outputs": [],
      "source": [
        "def gradient_descent_estocastico(x, y, theta, iterations, alpha):\n",
        "    for i in range(iterations):\n",
        "        for ii in range(m):\n",
        "            X_i = X[ii,:].reshape(1,X.shape[1])\n",
        "            y_i = y[ii].reshape(1,1)\n",
        "            prediction = np.dot(X_i,theta)\n",
        "            error = prediction - y_i\n",
        "            theta = theta -alpha*( X_i.T.dot((error)))\n",
        "    return theta"
      ]
    },
    {
      "cell_type": "code",
      "execution_count": null,
      "metadata": {
        "colab": {
          "base_uri": "https://localhost:8080/"
        },
        "id": "39vAk-gI2Rem",
        "outputId": "92dbbbb2-0c09-458a-eb40-29ec7483c0ef"
      },
      "outputs": [
        {
          "output_type": "stream",
          "name": "stdout",
          "text": [
            "[[  6.72417249   6.72985123]\n",
            " [  4.77656555   9.76238854]\n",
            " [ -5.5461296  -19.01659313]\n",
            " [ -6.92769536  -6.988794  ]\n",
            " [  8.051656    13.43799171]]\n",
            "15.34041056634858\n"
          ]
        }
      ],
      "source": [
        "theta_gradiente_estocastico = gradient_descent_estocastico(X,Y,theta,100,0.1)  # con dataset completo\n",
        "#theta_gradiente_estocastico = gradient_descent_estocastico(X,Y,theta,400000,1)  # con pocos datos de prueba\n",
        "\n",
        "compara = np.concatenate((theta_gradiente_estocastico, theta_optimo), axis=1)\n",
        "print(compara) # diferencia con el óptimo\n",
        "\n",
        "dist = np.linalg.norm(theta_optimo-theta_gradiente_estocastico)\n",
        "print(dist) # distacia entre vectores"
      ]
    },
    {
      "cell_type": "markdown",
      "metadata": {
        "id": "Htz9NZ2Y2Rem"
      },
      "source": [
        "### Descenso por Gradiente en la práctica\n",
        "\n",
        "Para poder aplicar descenso por gradiente de forma efectiva, deben tenerse algunos aspectos en cuenta:\n",
        "\n",
        "- **Selección de $\\alpha$ y criterio de convergencia**\n",
        "\n",
        "La constante $\\alpha$ que aparecen en la regla de Widrow-Hoff indica el tamaño del paso de reducción de $\\theta$ en la dirección indicada por el gradiente calculado. Cuanto más grande sea, más rápida será la convergencia. Sin embargo, si $\\alpha$ es demasiado grande, podemos dar un paso que haga que nos \"pasemos\"en nuestra aproximación al mínimo y que  el valor de $J(\\theta)$ comience a oscilar, o incluso a diverger (obsérvese que cada paso es proporcional a $\\alpha$, _pero también_ a la variable de entrada correspondiente).\n",
        "\n",
        "Una forma de ajustar $\\alpha$ es graficar $J(\\theta)$ versus el número de iteraciones del algoritmo: si el $\\alpha$ es adecuado, la convergencia debería ser rápida y el descenso de $J$ constante. Si no se da el primer caso, $\\alpha$ debería incrementarse. Si no se da el segundo ($J$ crece u oscila), $\\alpha$ debería reducirse.\n",
        "\n",
        "Es muy común también ir reduciendo el valor de $\\alpha$ a medida que avanzan las iteraciones (y supuestamente nos acercamos al mínimo).\n"
      ]
    },
    {
      "cell_type": "markdown",
      "metadata": {
        "id": "wrZHdor92Rem"
      },
      "source": [
        "![](https://miro.medium.com/max/1204/1*Hjw63NSyKN8-vD9aIGnVcw.png)\n"
      ]
    },
    {
      "cell_type": "markdown",
      "metadata": {
        "id": "ShB7QyNm2Ren"
      },
      "source": [
        "\n",
        "- **Normalización de la media**\n",
        "\n",
        "Cuando los diferentes atributos tienen valores en rangos muy diferentes, el descenso por gradiente convergerá más lentamente, porque $\\theta$ se reducirá mucho en los rangos más pequeños, pero poco en los grandes. Para evitar esto, lo usual es llevar los atributos de entrada a valores en los mismos rangos.\n",
        "El método usual es la normalización: se resta a cada valor de un atributo de entrada el valor medio de ese atributo en el conjunto de entrenamiento, y se divide por la desviación estándar de los valores, haciendo que los valores queden con media 0 y desviación estándar 1. La fórmula para ajustar cada atributo de la entrada es:\n",
        "\n",
        "$$\n",
        "x_i = \\frac{x_i - \\mu}{\\sigma}\n",
        "$$\n",
        "\n",
        "siendo $\\mu$ la media y $\\sigma$ la desviación estándar de los valores del atributo considerado.\n"
      ]
    },
    {
      "cell_type": "code",
      "execution_count": null,
      "metadata": {
        "colab": {
          "base_uri": "https://localhost:8080/"
        },
        "id": "52hVSFkL2Ren",
        "outputId": "f589662a-22f4-4319-c5cf-69ebd59df734"
      },
      "outputs": [
        {
          "output_type": "stream",
          "name": "stdout",
          "text": [
            "X: [1, 2, -3, 50, 40, 100, -5] \n",
            "Media: 26.43 \t Desviación: 36.35 \n",
            "\n",
            "X: [-0.69953077 -0.67202113 -0.80956932  0.64844145  0.37334507  2.0239233\n",
            " -0.86458859] \n",
            "Media: 0.00 \t Desviación: 1.00\n"
          ]
        }
      ],
      "source": [
        "# Normalización de la media\n",
        "x = [1, 2, -3, 50, 40, 100, -5]\n",
        "\n",
        "x_np = np.array(x)\n",
        "print(f\"X: {x} \\nMedia: %.2f \\t Desviación: %.2f \\n\" % (x_np.mean(), x_np.std()))\n",
        "\n",
        "z_scores_np = (x_np - x_np.mean()) / x_np.std()\n",
        "print(f\"X: {z_scores_np} \\nMedia: %.2f \\t Desviación: %.2f\" % (z_scores_np.mean(), z_scores_np.std()))"
      ]
    },
    {
      "cell_type": "markdown",
      "metadata": {
        "id": "eTdxOVw92Ren"
      },
      "source": [
        "![](https://udohsolomon.github.io/assets/images/gradientdescent.png)"
      ]
    },
    {
      "cell_type": "markdown",
      "metadata": {
        "id": "byFAQToy2Ren"
      },
      "source": [
        "![](https://udohsolomon.github.io/assets/images/gradientdescent.jpg)"
      ]
    },
    {
      "cell_type": "markdown",
      "metadata": {
        "id": "zltoTc8p2Ren"
      },
      "source": [
        "### Regresión Polinomial\n",
        "\n",
        "Si bien la función $h_\\theta(x)$ es lineal respecto a los valores de sus atributos, esto no quiere decir que tenga que ser necesariamente una recta respecto a los valores de entrada. La razón es que es posible definir atributos que sean combinaciones de los de entrada, como $x_1^2$ o $x_1x_2$, con los que la función $h_\\theta(x)$ será polinomial respecto a los atributos de entrada originales.\n",
        "\n",
        "Por ejemplo, nuestra hipótesis para regresión polinomial podría ser\n",
        "\n",
        "\n",
        "$$h_{\\theta}(x) = \\theta_0+ x_1\\theta_1 + x_2\\theta_2 + x_1x_2\\theta_3 + x_1^2\\theta_4 $$\n",
        "\n",
        "\n",
        "Nota importante: aunque parezca contradictorio, la regresión polinomial sigue siendo un problema de aproximación... lineal (la relación polinomial está dada entre $y$ y $x$, pero sigue siendo una combinación lineal de los parámetros)."
      ]
    },
    {
      "cell_type": "markdown",
      "metadata": {
        "id": "GvAosDSl2Reo"
      },
      "source": [
        "La selección de estos atributos no es trivial, y dependerá del conocimiento del problema que tiene quien elabora la regresión."
      ]
    },
    {
      "cell_type": "markdown",
      "metadata": {
        "id": "Jnil7xdA2Reo"
      },
      "source": [
        "![](https://miro.medium.com/max/1400/1*4Kh8rE48Hz5T8r4sakd4Ow.png)"
      ]
    },
    {
      "cell_type": "markdown",
      "metadata": {
        "id": "KJsU6jSU2Reo"
      },
      "source": [
        "¿Cómo usar polinomios de grado N y evitar el sobreajuste?"
      ]
    },
    {
      "cell_type": "markdown",
      "metadata": {
        "id": "YrgJzIeT2Reo"
      },
      "source": [
        "![](https://cdn.analyticsvidhya.com/wp-content/uploads/2017/06/05210948/overunder1.png) ![](https://upload.wikimedia.org/wikipedia/commons/6/68/Overfitted_Data.png)\n",
        "\n"
      ]
    },
    {
      "cell_type": "markdown",
      "metadata": {
        "id": "trAk_-l72Reo"
      },
      "source": [
        "### Regularización\n",
        "\n",
        "En el caso de la regresión lineal, el sobreajuste podría hacer que la función $h_\\theta(x)$ sea muy compleja (por ejemplo, porque aparecen atributos de orden polinomial alto), y ajuste demasiado a los datos de entrenamiento, perdiendo capacidad de generalización. Una técnica usual (y que no solamente aplica para este método), es la de la *regularización*: se agrega un componente a la función de costo que busca penalizar cierto tipo de funciones. En el caso de la regresión lineal, nuestra función de costo queda de la siguiente forma:\n",
        "\n",
        "$$ J(\\theta) = \\frac{1}{2m} \\left [ \\sum_{i=1}^m (h_\\theta(x^{(i)}) - y^{(i)})^2 + \\lambda \\sum_{j=1}^n  \\theta_j^2 \\right ] $$\n",
        "\n",
        "Esta forma de regresión se conoce también como $Ridge$, y busca penalizar valores grandes de los parámetros.\n",
        "\n",
        "El parámetro $\\lambda$ cumple un rol muy importante: si es muy grande, el peso de tener una hipótesis \"simple\" (y por lo tanto nuestro sesgo) es mayor, mientras que si tiende a cero, intentaremos buscar hipótesis que se ajusten mejor a los datos de entrenamiento (aunque la varianza aumente). Por lo tanto, si $\\lambda$ es $0$, nuestro riesgo de sobreajuste es máximo, mientras que si $\\lambda$ tiende a infinito, entonces es probable que suframos de _underfitting_: nuestras hipótesis son tan sencillas que ajustaran mal incluso a los datos de entrenamiento."
      ]
    },
    {
      "cell_type": "markdown",
      "metadata": {
        "id": "GPwZShPL2Reo"
      },
      "source": [
        "La regresión agrega sesgo a nuestra hipótesis, para lograr menos varianza, y que pequeñas variaciones en los atributos de entrada no impliquen grandes cambios en la salida. En el caso de Ridge, buscar resolver el problema de que, cuando los valores de algún $\\theta_j$ son muy grandes, pequeños cambios en la correspondiente variable $x_j$ producirán grandes cambios en el valor de $h_\\theta(x)$, haciendo que $h$ sea más proclive al sobreajuste."
      ]
    },
    {
      "cell_type": "markdown",
      "metadata": {
        "id": "VYSrwyrO2Rep"
      },
      "source": [
        "<h3><center>¿Cómo elegirían lambda?</center></h3>\n"
      ]
    },
    {
      "cell_type": "markdown",
      "metadata": {
        "id": "Ffojdrc02Rep"
      },
      "source": [
        "### Regularización\n",
        "\n",
        "Aplicando el mismo procedimiento que cuando definimos la regla de actualización original, obtenemos nuestra nueva versión de descenso por gradiente, incluyendo regularización:\n",
        "\n",
        "\n",
        "$$\\theta_0 := \\theta_0 - \\alpha \\frac{1}{m}\\sum_{i=1}^{m}  (h_\\theta(x^{(i)}) - y^{(i)})x^{(i)}_0 $$\n",
        "\n",
        "$$\\theta_j := \\theta_j - \\alpha \\left [ \\left ( \\frac{1}{m}\\sum_{i=1}^{m}  (h_\\theta(x^{(i)}) - y^{(i)})x^{(i)}_j \\right\n",
        ") + \\frac{\\lambda}{m}\\theta_j  \\right ]$$\n",
        "$$ \\text{   (simultáneamente para todos los $j \\in \\{1,2,\\ldots n\\}$)}$$\n",
        "\n",
        "En cada iteración, el valor de cada $\\theta_j$ (excepto $\\theta_0$ que, por convención, no se penaliza) se multiplica por $\\left ( 1 - \\frac{\\alpha\\lambda}{m} \\right )$, que siempre es menor que 1, y por lo tanto hace que su valor se reduzca."
      ]
    },
    {
      "cell_type": "markdown",
      "metadata": {
        "id": "44qi0aAN2Rep"
      },
      "source": [
        "![](https://miro.medium.com/max/700/1*bvFVy3prWJrPzFZzXZS97w@2x.png)\n",
        "\n"
      ]
    },
    {
      "cell_type": "markdown",
      "metadata": {
        "id": "vyjrcJXg2Rep"
      },
      "source": [
        "## Evaluación\n",
        "\n",
        "Como en los problemas de regresión no estamos prediciendo valores discretos sino continuos, las medidas utilizadas para clasificación no nos van a servir (es prácticamente imposible acertar _exactamente_ un valor continuo). Por lo tanto, presentaremos dos de las medidas más utilizadas: el error absoluto medio (MAE, *mean absolut error*) y el error cuadrático medio (MSE, *mean squared error*).\n",
        "\n",
        "\n",
        "El error absoluto medio es la media (sobre todas las instancias de evaluación) de la diferencia (en valor absoluto) entre cada valor predicho y el valor real:\n",
        "\n",
        "$$ \\text{MAE} = \\frac{1}{m} \\sum_{i=1}^m | h_\\theta(x^{(i)}) - y^{(i)})|$$\n",
        "\n",
        "Por su parte, el error cuadrático medio corresponde a la media de los cuadrados de estas diferencias:\n",
        "\n",
        "$$\\text{MSE} = \\frac{1}{m} \\sum_{i=1}^m (h_\\theta(x^{(i)}) - y^{(i)})^2$$\n",
        "\n"
      ]
    },
    {
      "cell_type": "code",
      "execution_count": null,
      "metadata": {
        "colab": {
          "base_uri": "https://localhost:8080/"
        },
        "id": "vA_vvlZD2Req",
        "outputId": "575a309b-292c-4d34-e760-410ae3153167"
      },
      "outputs": [
        {
          "output_type": "stream",
          "name": "stdout",
          "text": [
            "[1.66845812]\n",
            "[5.24064739]\n"
          ]
        }
      ],
      "source": [
        "MAE = 1/m*sum(abs((np.matmul(X,theta_gradiente)-Y)))\n",
        "print(MAE)\n",
        "\n",
        "MSE = 1/m*sum((np.matmul(X,theta_gradiente)-Y)*(np.matmul(X,theta_gradiente)-Y))\n",
        "print(MSE)"
      ]
    },
    {
      "cell_type": "markdown",
      "metadata": {
        "id": "cQUBHP232Req"
      },
      "source": [
        "## Evaluación\n",
        "\n",
        "Ambos valores son similares, pero el MSE es más sensible a los outliers (valores que se separan mucho del comportamiento general), porque les da más peso.\n",
        "\n",
        "En el caso del MAE, sus valores tienen el mismo orden que $y$, por lo que podemos compararlo y analizar cuánto nuestros valores se apartan de los reales. Para hacer lo mismo con el mismo a partir del MSE, se suele utilizar el RMSE (*root mean squared error*), que es simplemente su raíz cuadrada:\n",
        "\n",
        "$$ \\text{RSME} = \\sqrt { \\frac{1}{m} \\sum_{i=1}^m (h_\\theta(x^{(i)}) - y^{(i)})^2}$$\n",
        "\n",
        " Al igual que en el caso de la clasificación, estas medidas deberán evaluarse en un conjunto de instancias separada (y en lo posible con la misma distribución) que el conjunto de evaluación."
      ]
    },
    {
      "cell_type": "code",
      "execution_count": null,
      "metadata": {
        "colab": {
          "base_uri": "https://localhost:8080/"
        },
        "id": "FQCpF4jj2Req",
        "outputId": "52321892-908b-467d-a24e-1e0b34293b09"
      },
      "outputs": [
        {
          "output_type": "stream",
          "name": "stdout",
          "text": [
            "[2.28924603]\n"
          ]
        }
      ],
      "source": [
        "RMSE = np.sqrt(MSE)\n",
        "print(RMSE)"
      ]
    },
    {
      "cell_type": "markdown",
      "metadata": {
        "id": "imuMnCDk2Req"
      },
      "source": [
        "## Referencias\n",
        "- [Notas del curso CS229](https://see.stanford.edu/materials/aimlcs229/cs229-notes1.pdf) de la Universidad de Stanford (disponible en la plataforma Coursera)\n",
        "- Videos del curso CS229 ( https://see.stanford.edu/Course/CS229 )\n",
        "- [Logistic Regression](https://web.stanford.edu/~jurafsky/slp3/5.pdf) - Capítulo 5 (draft) de la 3era edición del libro \"Speech and Language Processing\" de Martin and Jurafsky.\n",
        "- [Gradient Descent for Linear Regression Explained](https://blog.goodaudience.com/gradient-descent-for-linear-regression-explained-7c60bc414bdd) - Albert Lai.\n",
        "- Ejemplo de convergencia, rebote infinito y divergencia del descenso por gradiente ( https://docs.google.com/spreadsheets/d/1c-0Wg1Q4T7LmS-D9bQQVUN7SS8DU4-t7o1uZILL5Fa0/ )"
      ]
    }
  ],
  "metadata": {
    "celltoolbar": "Slideshow",
    "kernelspec": {
      "display_name": "Python 3.9.12 64-bit",
      "language": "python",
      "name": "python3"
    },
    "language_info": {
      "codemirror_mode": {
        "name": "ipython",
        "version": 3
      },
      "file_extension": ".py",
      "mimetype": "text/x-python",
      "name": "python",
      "nbconvert_exporter": "python",
      "pygments_lexer": "ipython3",
      "version": "3.9.12"
    },
    "vscode": {
      "interpreter": {
        "hash": "aee8b7b246df8f9039afb4144a1f6fd8d2ca17a180786b69acc140d282b71a49"
      }
    },
    "colab": {
      "provenance": []
    }
  },
  "nbformat": 4,
  "nbformat_minor": 0
}