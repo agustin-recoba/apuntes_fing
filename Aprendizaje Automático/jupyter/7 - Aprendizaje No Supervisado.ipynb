{
 "cells": [
  {
   "cell_type": "markdown",
   "metadata": {
    "slideshow": {
     "slide_type": "slide"
    }
   },
   "source": [
    "# Aprendizaje No Supervisado\n",
    "### Aprendizaje Automático - Instituto de Computación - UdelaR"
   ]
  },
  {
   "cell_type": "markdown",
   "metadata": {
    "slideshow": {
     "slide_type": "slide"
    }
   },
   "source": [
    "### Aprendizaje No Supervisado\n",
    "\n",
    "El aprendizaje no supervisado es una de las \"familias\" de métodos de aprendizaje automático. A diferencia del aprendizaje supervisado, donde conocemos la clase de cada instancia en el dataset, en el aprendizaje no supervisado trabajamos directamente con las instancias sin anotar, buscando patrones  y relaciones dentro del conjunto. \n",
    "\n",
    "En este curso veremos dos tipos de estas técnicas: clustering y análisis de componentes principales (existen otras, como deteccción de anomalías, o autoencoders, que buscan aprender representaciones de los datos, que no cubriremos)."
   ]
  },
  {
   "cell_type": "markdown",
   "metadata": {
    "slideshow": {
     "slide_type": "slide"
    }
   },
   "source": [
    "# Parte A: Clustering"
   ]
  },
  {
   "cell_type": "markdown",
   "metadata": {
    "slideshow": {
     "slide_type": "slide"
    }
   },
   "source": [
    "### Clustering\n",
    "\n",
    "- Buscamos agrupar las instancias del conjunto de entrenamiento\n",
    "- Queremos que las instancias que están en el mismo cluster sean parecidas entre sí, y diferentes a los de los demás clusters.\n",
    "- Podemos tambier verlo como un proceso de clasificar... con etiquetas desconocidas.\n",
    "- El objetivo del clustering no es predictivo, sino descriptivo. \n",
    "\n",
    "<img src=\"https://github.com/pln-fing-udelar/curso_aa/blob/master/img/clusters.png?raw=true\" alt=\"Diferentes clusters\"  width=500 />\n",
    "<div align=right>(Ejemplo tomado del libro \"Introduction to Data Mining\")</div>"
   ]
  },
  {
   "cell_type": "markdown",
   "metadata": {
    "slideshow": {
     "slide_type": "slide"
    }
   },
   "source": [
    "### Definición de Cluster\n",
    "\n",
    "Un _cluster_ es un conjunto de subconjuntos $ C = C_1,\\ldots,C_k$ de un conjunto de instancias $D$ tales que \n",
    "\n",
    "\n",
    "$S= \\bigcup_{i=1}^k C_i$ y $C_j \\bigcap C_i = \\emptyset$ para $i \\neq j$\n",
    "\n",
    "- Cada instancia pertenece a un (y solo un) cluster. "
   ]
  },
  {
   "cell_type": "markdown",
   "metadata": {
    "slideshow": {
     "slide_type": "slide"
    }
   },
   "source": [
    "### Distancias\n",
    "\n",
    "- Dado que que queremos agrupar instancias similares, necesitamos una noción de _distancia_. La distancia más utilizada para valores numéricos es la distancia euclidiana. Si tenemos dos instancias $x,y \\in \\mathbb{R}^{n}$:\n",
    "\n",
    "$$ d(x,y) = \\sqrt{\\sum_{i=1}^{n} (x_i - y_i)^2} $$\n",
    "\n",
    "- La distancia puede definirse a partir de de la norma euclídea del vector desplazamiento\n",
    "\n",
    "$$ d(x,y) = \\| x - y \\| $$\n",
    "\n",
    "donde $\\| x  \\|= \\sqrt{x \\cdot x}$\n",
    "\n",
    "\n",
    "- Si no nos interesa tener en cuenta la magnitud de los vectores, podemos utilizar la distancia coseno (que mide el coseno del ángulo entre los vectores):\n",
    "\n",
    "$$ \\frac{x \\cdot y}{\\| x \\| \\| y\\|} $$\n",
    "\n",
    "- Existen (muchas) otras distancias posibles.\n",
    "\n"
   ]
  },
  {
   "cell_type": "markdown",
   "metadata": {
    "slideshow": {
     "slide_type": "slide"
    }
   },
   "source": [
    "### K-means\n",
    "\n",
    "- Es el algoritmo más utilizado para clustering, porque es muy eficiente\n",
    "- Asume que nuestras instancias pertenecen a $\\mathbb{R}^n$\n",
    "- Es un algoritmo de partición: parte el espacio en K clusters convexos\n",
    "- Cada cluster está representado por un _centroide_ (definido como la media de las instancias)\n",
    "- Se busca minimizar la distancia euclídea entre los puntos de cada cluster y su centroide\n",
    "\n"
   ]
  },
  {
   "cell_type": "markdown",
   "metadata": {
    "slideshow": {
     "slide_type": "slide"
    }
   },
   "source": [
    "### K-means\n",
    "\n",
    "Ejemplo (tomado de la Entrega de la Tarea 4, grupo 5, año 2019):\n",
    "  \n",
    "<img src=\"https://github.com/pln-fing-udelar/curso_aa/blob/master/img/clusters_partidos_23.png?raw=true\" alt=\"Diferentes clusters\"  width=400 />\n",
    "\n"
   ]
  },
  {
   "cell_type": "markdown",
   "metadata": {
    "slideshow": {
     "slide_type": "slide"
    }
   },
   "source": [
    "### K-means\n",
    "\n",
    "Ejemplo (tomado de la Entrega de la Tarea 4, grupo 5, año 2019, sobre el corpus aquienvoto.uy):\n",
    " \n",
    "\n",
    " \n",
    "<img src=\"https://github.com/pln-fing-udelar/curso_aa/blob/master/img/cluster_partidos_5_50.png?raw=true\" alt=\"Diferentes clusters\"  width=400 />\n"
   ]
  },
  {
   "cell_type": "markdown",
   "metadata": {
    "slideshow": {
     "slide_type": "slide"
    }
   },
   "source": [
    "### K-means\n",
    "\n",
    "Ejemplo (tomado de la Entrega de la Tarea 4, grupo 5, año 2019):\n",
    "\n",
    "\n",
    "<img src=\"https://github.com/pln-fing-udelar/curso_aa/blob/master/img/clusters_partidos_11.png?raw=true\" alt=\"Diferentes clusters\"  width=500 />"
   ]
  },
  {
   "cell_type": "markdown",
   "metadata": {
    "slideshow": {
     "slide_type": "slide"
    }
   },
   "source": [
    "### K-means\n",
    "\n",
    "- El centroide de un cluster se define como la media de las instancias ($N_k$ es el número de instancias en el cluster) : \n",
    "\n",
    "$$ \\mu_k = \\frac{1}{N_k} \\sum_{q=1}^{N_k} x_q $$\n",
    "\n",
    "\n",
    "- Lo que querríamos tener es un conjunto de clusters donde fuera mínima la suma de los errores cuadráticos (SSE):\n",
    "\n",
    "$$ SSE = \\sum_{k=1}^{K} \\sum_{x_i \\in C_k} \\| x_i - \\mu_k \\|^2$$\n",
    "\n",
    "- Problema: probar todas las combinaciones posibles de clusters es muy costoso\n",
    "- K-means propone una aproximación iterativa, que tiene complejidad lineal en el número de instancias"
   ]
  },
  {
   "cell_type": "markdown",
   "metadata": {
    "slideshow": {
     "slide_type": "slide"
    }
   },
   "source": [
    "### K-means\n",
    "\n",
    "```\n",
    "Input: S (dataset), K (número de clusters)\n",
    "Output: clusters\n",
    "    1: Inicializar K centroides aleatoriamente\n",
    "    2: Mientras no se de la condición de fin:\n",
    "    3:       Asignar cada instancia al centroide más cercano\n",
    "    4:       Recalcular los centroides\n",
    "    5: Retornar los clusters\n",
    "```\n",
    "\n",
    "- Parecido a gradient descent: inicializamos, y vamos reduciendo nuestro error\n",
    "- Paramos cuando la distancia entre los centroides nuevos y los anteriores es menor a un cierto $\\epsilon$\n",
    "- La convergencia de k-means está garantizada (Selim and Ismail, 1984)"
   ]
  },
  {
   "cell_type": "markdown",
   "metadata": {
    "slideshow": {
     "slide_type": "slide"
    }
   },
   "source": [
    "### K-means\n",
    "\n",
    "Ejemplo (Bishop, 2006):\n",
    "    \n",
    "<img src=\"http://dendroid.sk/wp-content/uploads/2013/01/kmeansimg-scaled1000.jpg?w=300\" alt=\"Diferentes clusters\"  width=500 />\n",
    "\n"
   ]
  },
  {
   "cell_type": "markdown",
   "metadata": {
    "slideshow": {
     "slide_type": "slide"
    }
   },
   "source": [
    "### K-means\n",
    "\n",
    "- K-means es bueno cuando los clusters son isotrópicos (uniformes en todas direcciones)\n",
    "- Problema: muy sensible a la inicialización. \n",
    "- Heurística: probar diferentes inicializaciones y elegir aquella donde $SSE$ sea mínimo\n",
    "- Heurística: elegir como centroides iniciales puntos del dataset\n",
    "        "
   ]
  },
  {
   "cell_type": "markdown",
   "metadata": {
    "slideshow": {
     "slide_type": "slide"
    }
   },
   "source": [
    "### Evaluación\n",
    "\n",
    "- Evaluar qué tan bueno es un cluster es muy difícil... porque es difícil definir qué es un cluster. No hay gold standard.\n",
    "- Si tenemos clases asociadas a las instancias, podemos evaluar contra los clusters definidos por estas clases (evaluación externa)\n",
    "- De lo contrario, deberemos utilizar medidas _internas_. \n",
    "\n",
    "       "
   ]
  },
  {
   "cell_type": "markdown",
   "metadata": {
    "slideshow": {
     "slide_type": "slide"
    }
   },
   "source": [
    "### Evaluación: validación Externa\n",
    "\n",
    "- Necesitamos una forma de comparar el clustering generado con el derivado de las clases\n",
    "- La medida más utilizada es el índice de Rand:\n",
    "\n",
    "    - Dados dos agrupamientos $A_1$ y $A_2$, donde:\n",
    "        - $a$ es el número de pares que de elementos que están en el mismo cluster en ambos agrupamientos\n",
    "        - $b$ es el número de pares que están en distinto cluster en ambos agrupamientos\n",
    "        - $c$ es el número de pares que están en el mismo cluster en $A_1$ pero en distinto cluster en $A_2$\n",
    "        - $d$ es el número de pares que están en el mismo cluster en $A_2$ pero en distinto cluster en $A_1$\n",
    "    - El $\\text{índice de Rand}$ se define como:\n",
    "    $$ RI = \\frac{a+b}{a+b+c+d} = \\frac{a+b}{{n \\choose 2}}$$"
   ]
  },
  {
   "cell_type": "markdown",
   "metadata": {
    "slideshow": {
     "slide_type": "slide"
    }
   },
   "source": [
    "                 \n",
    "- El RI resulta en un valor entre 0 y 1, donde 0 indica que los clusters no concuerdan en ningún par, y 1 indica que los clusters son exactamente iguales\n",
    "\n",
    "- El problema con RI es que si asignamos clusters al azar, no necesariamente nos da 0. El Adjusted Rand Index es una versión donde se busca corregir la influencia del azar, ajustando a partir de una matriz de contingencia."
   ]
  },
  {
   "cell_type": "markdown",
   "metadata": {
    "slideshow": {
     "slide_type": "slide"
    }
   },
   "source": [
    "### Evaluación: validación interna\n",
    "\n",
    "- No tenemos clusters \"verdaderos\", tenemos que hacer una validación interna\n",
    "- La validación interna busca medir principalmente la cohesión de los clusters, y su separación.\n",
    "\n",
    "- El Índice Davies Boulding: mide la similitud promedio entre  cada cluster y el cluster más similar a él. Si construimos una matriz que balancea la distancia promedio $s_i$ de cada punto del cluster $i$ con su centroide, y la distancia $d_{ij}$ entre los centroides $i$ y $j$:\n",
    "\n",
    "$$ R_{ij} = \\frac{s_i+s_j}{d_{ij}} $$\n",
    "\n",
    "El índice se define como:\n",
    "\n",
    "$$ DB = \\frac{1}{k} \\sum_{i=1}^k \\max_{i \\neq j} R_{ij}$$\n",
    "\n",
    "- Existen muchos otros índices, con ventajas y desventajas según el caso (la documentación de la biblioteca scikit-learn incluye un análisis de cada caso)\n"
   ]
  },
  {
   "cell_type": "markdown",
   "metadata": {
    "slideshow": {
     "slide_type": "slide"
    }
   },
   "source": [
    "### Número de clusters\n",
    "\n",
    "- No es fácil identificar un número \"óptimo\" clusters\n",
    "- En general, si aumentamos el número de clusters, nuestros clusters son \"mejores\"\n",
    "- ... pero corremos el riesgo de  😈 (aquí también).\n",
    "\n",
    "- **Método del Codo**: buscar el punto donde agregar más clusters no vale la pena porque la mejora deja de ser importante\n",
    "    1. dibujar la performance (medida, por ejemplo en SSE) como función de la cantidad de clusters\n",
    "    2. seleccionar el valor correspondiente al codo de la curva\n",
    "\n",
    "<img src=\"https://upload.wikimedia.org/wikipedia/commons/c/cd/DataClustering_ElbowCriterion.JPG\" alt=\"Elbow method\" width=500 />\n"
   ]
  },
  {
   "cell_type": "markdown",
   "metadata": {
    "slideshow": {
     "slide_type": "slide"
    }
   },
   "source": [
    "### Referencias\n",
    "\n",
    "- Documentación de Scikit-learn, [Clustering](https://scikit-learn.org/stable/modules/clustering.html#)\n",
    "- [Data Mining and Knowledge Discovering Handbook, Chapter 15, Clustering Methods](https://www.cs.swarthmore.edu/%7Emeeden/cs63/s16/reading/Clustering.pdf). Rokach and Maimon."
   ]
  },
  {
   "cell_type": "markdown",
   "metadata": {
    "slideshow": {
     "slide_type": "slide"
    }
   },
   "source": [
    "## Parte B: Principal Component Analysis"
   ]
  },
  {
   "cell_type": "markdown",
   "metadata": {
    "slideshow": {
     "slide_type": "slide"
    }
   },
   "source": [
    "### PCA\n",
    "\n",
    "- PCA es un método no supervisado para encontrar patrones en los datos\n",
    "- Buscar reducir las dimensiones del conjunto de datos, con la mínima pérdida de información posible\n",
    "- Muy útil para visualizar datos en espacios n-dimensionales\n"
   ]
  },
  {
   "cell_type": "markdown",
   "metadata": {
    "slideshow": {
     "slide_type": "slide"
    }
   },
   "source": [
    "### Previo: varianza y covarianza\n",
    "\n",
    "- Si tenemos un conjunto de $n$ elementos (o *muestra*), su varianza es:\n",
    "\n",
    "$$  s^2  = \\frac{\\sum_{i=1}^n (x_i - \\bar{x})^2}{n-1}\\;, \\; \\text{siendo }\\bar{x} \\text{ la media de la muestra}$$\n",
    "\n",
    "- La varianza mide qué tan alejados están, en promedio, las instancias de su media. Si un conjunto tiene varianza 0, todos sus elementos son iguales (e iguales a la media).\n",
    "\n",
    "- La varianza intenta capturar la idea de dispersión. "
   ]
  },
  {
   "cell_type": "markdown",
   "metadata": {
    "slideshow": {
     "slide_type": "slide"
    }
   },
   "source": [
    "### Previo: varianza y covarianza\n",
    "\n",
    "\n",
    "- En la figura, los puntos tienen media muy similar, pero diferente varianza\n",
    "\n",
    "<img src=\"https://github.com/pln-fing-udelar/curso_aa/blob/master/img/media_y_varianza.png?raw=true\" alt=\"Media y varianza\"  width=500 />\n"
   ]
  },
  {
   "cell_type": "markdown",
   "metadata": {
    "slideshow": {
     "slide_type": "slide"
    }
   },
   "source": [
    "### Previo: varianza y covarianza\n",
    "\n",
    "- Si tenemos un conjunto multidimensional, la varianza de cada dimensión mide su dispersión, independientemente de las otras dimensiones. La covarianza mide qué tanto varía una dimensión _en relación a otra_ \n",
    "\n",
    "\n",
    "$$  cov(x,y) = \\frac{\\sum_{i=1}^n (x_i - \\bar{x})(y_i - \\bar{y})}{n-1}$$\n",
    "\n",
    "- En la figura, la varianza es positiva. Cuando $x$ crece, $y$ crece.\n",
    "\n",
    "<img src=\"https://github.com/pln-fing-udelar/curso_aa/blob/master/img/var_y_covar.png?raw=true\" alt=\"Media y varianza\"  />"
   ]
  },
  {
   "cell_type": "markdown",
   "metadata": {
    "slideshow": {
     "slide_type": "slide"
    }
   },
   "source": [
    "### Previo: matriz de covarianza\n",
    "\n",
    "- Si tenemos un conjunto de datos con $n$ dimensiones, la matriz de covarianza $C$ tiene en su elemento $(i,j)$ el valor correspondiente a $cov(Dim_i,Dim_j)$, siendo $Dim_i$ la $i$-ésima dimensión\n",
    "\n",
    "- Por ejemplo, si tenemos tres dimensiones $x$,$y$,$z$: \n",
    "\n",
    "$$ C = \\left (  \\begin{array} {ccc}\n",
    "cov(x,x)&cov(x,y)&cov(x,z)\\\\\n",
    "cov(y,x)&cov(y,y)&cov(y,z)\\\\\n",
    "cov(z,x)&cov(z,y)&cov(z,z)\n",
    "\\end{array} \\right )  $$ \n",
    "\n",
    "\n",
    "- La matriz de covarianza es cuadrada y simétrica.\n",
    "- Los valores de la diagonal corresponden a la varianza de cada dimensión.\n",
    "\n",
    "- Ejercicio: calcule las matrices de covarianza presentadas en los ejercicios del texto, en la sección 2.1 del Tuturial de Smiths.\n",
    "\n",
    "\n",
    " "
   ]
  },
  {
   "cell_type": "markdown",
   "metadata": {
    "slideshow": {
     "slide_type": "slide"
    }
   },
   "source": [
    "### Previo: valores y vectores propios\n",
    "\n",
    "- Revisar [material de repaso](https://github.com/pln-fing-udelar/curso_aa/blob/master/material_adicional/A%20-%20Algebra%20Lineal.ipynb) de álgebra lineal. \n",
    "\n",
    "- Si $A \\in \\mathbb{R}^{n \\times n}$, decimos que $\\lambda \\in \\mathbb{C}$ es un _valor propio_ y que $x \\in \\mathbb{C}^n$ es su _vector propio correspondiente_ si: \n",
    "\n",
    "$$Ax = \\lambda x, x \\neq 0$$\n",
    "\n",
    "Visto como transformación lineal, multiplicar $A$ por un vector propio $x$ resulta en un nuevo vector, con la misma dirección, pero escalado por un factor $\\lambda$. \n",
    "\n",
    "<img src=\"http://upload.wikimedia.org/wikipedia/commons/a/ad/Eigenvectors-extended.gif\" width=300>"
   ]
  },
  {
   "cell_type": "markdown",
   "metadata": {
    "slideshow": {
     "slide_type": "slide"
    }
   },
   "source": [
    "### PCA\n",
    "\n",
    "Caso de uso: tenemos un conjunto de datos con n dimensiones, y queremos ver cómo se agrupan. Para poder dibujarlos en 2D queremos reducir las dimensiones, pero perdiendo la menor cantidad posible de información. Vamos a usar PCA para hacerlo, y de paso vemos los pasos. \n",
    "\n",
    "**Paso 1: obtenemos los datos, claro**\n",
    "\n",
    "- Representamos nuestro dataset como una matriz $\\in \\mathbb{R^{n \\times m}}$, siendo $n$ la cantidad de dimensiones y $m$ la cantidad de instancias "
   ]
  },
  {
   "cell_type": "code",
   "execution_count": 1,
   "metadata": {
    "slideshow": {
     "slide_type": "skip"
    }
   },
   "outputs": [],
   "source": [
    "import numpy as np\n",
    "import matplotlib as mpl\n",
    "import matplotlib.pyplot as plt\n",
    "plt.style.use('seaborn-whitegrid')\n",
    "np.set_printoptions(precision=2, suppress=True)\n",
    "from mpl_toolkits.mplot3d import Axes3D\n",
    "from mpl_toolkits.mplot3d import proj3d"
   ]
  },
  {
   "cell_type": "code",
   "execution_count": 2,
   "metadata": {
    "slideshow": {
     "slide_type": "subslide"
    }
   },
   "outputs": [
    {
     "name": "stdout",
     "output_type": "stream",
     "text": [
      "[[  1.97   1.8    1.7    1.65   1.75   1.67]\n",
      " [110.    70.    90.    52.    65.    58.  ]\n",
      " [  5.     4.8    4.9    4.7    4.8    4.6 ]]\n"
     ]
    }
   ],
   "source": [
    "m=6\n",
    "x_men=np.array([[1.97,110,5],[1.80,70,4.8],[1.70,90,4.9]]).transpose()\n",
    "x_women=np.array([[1.65,52,4.7],[1.75,65,4.8],[1.67,58,4.6]]).transpose()\n",
    "x = np.hstack((x_men,x_women))\n",
    "print(x)\n"
   ]
  },
  {
   "cell_type": "markdown",
   "metadata": {
    "slideshow": {
     "slide_type": "slide"
    }
   },
   "source": [
    "### PCA\n",
    "\n",
    "- Paso 2: restamos la media de cada dimensión a todas las instancias (y también escalamos los atributos)\\\n",
    "\n",
    "    - El dataset ajustado  $\\in \\mathbb{R}^{n \\times m}$"
   ]
  },
  {
   "cell_type": "code",
   "execution_count": 3,
   "metadata": {
    "slideshow": {
     "slide_type": "subslide"
    }
   },
   "outputs": [
    {
     "data": {
      "text/plain": [
       "array([[ 1.98,  0.4 , -0.53, -0.99, -0.06, -0.81],\n",
       "       [ 1.8 , -0.21,  0.79, -1.11, -0.46, -0.81],\n",
       "       [ 1.55, -0.  ,  0.77, -0.77, -0.  , -1.55]])"
      ]
     },
     "metadata": {},
     "output_type": "display_data"
    }
   ],
   "source": [
    "#x_r = x - x.mean(axis=1,keepdims=True)\n",
    "x_r = (x - x.mean(axis=1,keepdims=True))/x.std(axis=1,keepdims=True)\n",
    "display(x_r)\n",
    "\n",
    "\n"
   ]
  },
  {
   "cell_type": "code",
   "execution_count": 4,
   "metadata": {
    "slideshow": {
     "slide_type": "subslide"
    }
   },
   "outputs": [
    {
     "data": {
      "image/png": "[encoded data removed]",
      "text/plain": [
       "<Figure size 576x576 with 1 Axes>"
      ]
     },
     "metadata": {
      "needs_background": "light"
     },
     "output_type": "display_data"
    }
   ],
   "source": [
    "\n",
    "fig = plt.figure(figsize=(8,8))\n",
    "ax = fig.add_subplot(111, projection='3d')\n",
    "plt.rcParams['legend.fontsize'] = 10   \n",
    "ax.plot(x_r[0,0:int(m/2)], x_r[1,0:int(m/2)], x_r[2,0:int(m/2)], 'o', markersize=8, color='red', alpha=0.5, label='class1')\n",
    "ax.plot(x_r[0,int(m/2):m], x_r[1,int(m/2):m], x_r[2,int(m/2):m], 'o', markersize=8, color='blue', alpha=0.5, label='class2')\n",
    "plt.show()\n"
   ]
  },
  {
   "cell_type": "markdown",
   "metadata": {
    "slideshow": {
     "slide_type": "slide"
    }
   },
   "source": [
    "### PCA \n",
    "\n",
    "- Paso 3: calculamos la matriz de covarianza\n",
    "    "
   ]
  },
  {
   "cell_type": "code",
   "execution_count": 5,
   "metadata": {
    "slideshow": {
     "slide_type": "subslide"
    }
   },
   "outputs": [
    {
     "name": "stdout",
     "output_type": "stream",
     "text": [
      "[[1.2  0.97 0.94]\n",
      " [0.97 1.2  1.1 ]\n",
      " [0.94 1.1  1.2 ]]\n"
     ]
    }
   ],
   "source": [
    "cvm=np.cov(x_r)\n",
    "print (cvm)"
   ]
  },
  {
   "cell_type": "markdown",
   "metadata": {
    "slideshow": {
     "slide_type": "slide"
    }
   },
   "source": [
    "### PCA\n",
    "\n",
    "**Paso 4: Calculamos valores y vectores propios de la matriz de covarianza**\n",
    "\n",
    "- Los vectores propios obtenidos nos indican las direcciones en las que los datos varían más. \n",
    "- El vector con el mayor valor propio es el _componente principal_ de la matriz, y muestra la dirección en la que los datos están más dispersos.\n",
    "- Si ordenamos los vectores por el valor absoluto de su valor propio, obtenemos las dimensiones de mayor variación "
   ]
  },
  {
   "cell_type": "code",
   "execution_count": 6,
   "metadata": {
    "slideshow": {
     "slide_type": "subslide"
    }
   },
   "outputs": [
    {
     "name": "stdout",
     "output_type": "stream",
     "text": [
      "(3.2055337366682966, array([0.56, 0.59, 0.58]))\n",
      "(0.29880117000138945, array([ 0.83, -0.33, -0.46]))\n",
      "(0.09566509333031278, array([ 0.08, -0.74,  0.67]))\n"
     ]
    }
   ],
   "source": [
    "eig_val_cov, eig_vec_cov = np.linalg.eig(cvm)\n",
    "for i in range(len(eig_val_cov)):\n",
    "    eigvec_cov = eig_vec_cov[:,i].reshape(1,3).T\n",
    "\n",
    "# Hacemos un alista de pares (valor, vector) y las ordenamos de mayor a menor\n",
    "eig_pairs = [(np.abs(eig_val_cov[i]), eig_vec_cov[:,i]) \n",
    "             for i in range(len(eig_val_cov))]\n",
    "eig_pairs.sort()\n",
    "eig_pairs.reverse()\n",
    "\n",
    "for i in eig_pairs:\n",
    "    print(i)\n",
    "\n",
    "\n",
    "    "
   ]
  },
  {
   "cell_type": "markdown",
   "metadata": {
    "slideshow": {
     "slide_type": "slide"
    }
   },
   "source": [
    "### PCA\n",
    "\n",
    "**Paso 5: elegimos los componentes principales y generamos una matriz cuyas filas son los vectores propios**\n",
    "\n",
    "- La matriz de componentes principales $\\in \\mathbb{R}^{d \\times n}$ (siendo $d$ la cantidad de dimensiones con mayor valor propio)\n"
   ]
  },
  {
   "cell_type": "code",
   "execution_count": 7,
   "metadata": {
    "slideshow": {
     "slide_type": "subslide"
    }
   },
   "outputs": [
    {
     "name": "stdout",
     "output_type": "stream",
     "text": [
      "Matriz de componentes principales:\n",
      " [[ 0.56  0.59  0.58]\n",
      " [ 0.83 -0.33 -0.46]]\n"
     ]
    }
   ],
   "source": [
    "matrix_w = np.vstack((eig_pairs[0][1], eig_pairs[1][1]))\n",
    "print('Matriz de componentes principales:\\n', matrix_w)"
   ]
  },
  {
   "cell_type": "markdown",
   "metadata": {
    "slideshow": {
     "slide_type": "slide"
    }
   },
   "source": [
    "### PCA \n",
    "\n",
    "**Paso 6: generamos el nuevo dataset, d-dimensional**\n",
    "\n",
    "- Multiplicamos la matriz de componentes por  el dataset original \n",
    "- Verificamos: la matriz de componentes principales $\\in \\mathbb{R}^{d \\times n}$, y el dataset  $\\in \\mathbb{R}^{n \\times m}$.  \n",
    "- El resultado $\\in \\mathbb{R}^{d \\times m}$, por lo que el nuevo dataset tiene en las filas dimensiones y en las columnas las instancias, igual que el original"
   ]
  },
  {
   "cell_type": "code",
   "execution_count": 8,
   "metadata": {
    "slideshow": {
     "slide_type": "subslide"
    }
   },
   "outputs": [
    {
     "name": "stdout",
     "output_type": "stream",
     "text": [
      "[[ 3.07  0.1   0.63 -1.66 -0.31 -1.83]\n",
      " [ 0.34  0.4  -1.05 -0.1   0.1   0.31]]\n"
     ]
    }
   ],
   "source": [
    "x_rt = np.dot(matrix_w, x_r)\n",
    "print (x_rt)"
   ]
  },
  {
   "cell_type": "code",
   "execution_count": 9,
   "metadata": {
    "slideshow": {
     "slide_type": "subslide"
    }
   },
   "outputs": [
    {
     "data": {
      "image/png": "[encoded data removed]",
      "text/plain": [
       "<Figure size 432x288 with 1 Axes>"
      ]
     },
     "metadata": {
      "needs_background": "light"
     },
     "output_type": "display_data"
    }
   ],
   "source": [
    "plt.plot(x_rt[0,0:int(m/2)], x_rt[1,0:int(m/2)], 'o', markersize=7, color='blue', alpha=0.5, label='men')\n",
    "plt.plot(x_rt[0,int(m/2):m], x_rt[1,int(m/2):m], '^', markersize=7, color='red', alpha=0.5, label='women')\n",
    "plt.xlabel('nueva dimensión 1')\n",
    "plt.ylabel('nueva dimensión 2')\n",
    "#plt.legend()\n",
    "plt.title('Instancias transformadas')\n",
    "\n",
    "plt.show()"
   ]
  },
  {
   "cell_type": "markdown",
   "metadata": {
    "slideshow": {
     "slide_type": "slide"
    }
   },
   "source": [
    "### PCA \n",
    "\n",
    "- Ejercicio: ¿no podríamos quedarnos con alguna dimensión menos?\n",
    "- Ejercicio: ¿cómo recuperamos los datos originales?"
   ]
  },
  {
   "cell_type": "markdown",
   "metadata": {
    "slideshow": {
     "slide_type": "slide"
    }
   },
   "source": [
    "### Referencias\n",
    "\n",
    "- [A tutorial on PCA](http://www.cs.otago.ac.nz/cosc453/student_tutorials/principal_components.pdf)(Lindsay Smiths)\n",
    "\n",
    "- [PCA Step by step in Python](http://sebastianraschka.com/Articles/2014_pca_step_by_step.html) (Sebastian Raschka)"
   ]
  }
 ],
 "metadata": {
  "kernelspec": {
   "display_name": "Python 3 (ipykernel)",
   "language": "python",
   "name": "python3"
  },
  "language_info": {
   "codemirror_mode": {
    "name": "ipython",
    "version": 3
   },
   "file_extension": ".py",
   "mimetype": "text/x-python",
   "name": "python",
   "nbconvert_exporter": "python",
   "pygments_lexer": "ipython3",
   "version": "3.8.10"
  }
 },
 "nbformat": 4,
 "nbformat_minor": 4
}
